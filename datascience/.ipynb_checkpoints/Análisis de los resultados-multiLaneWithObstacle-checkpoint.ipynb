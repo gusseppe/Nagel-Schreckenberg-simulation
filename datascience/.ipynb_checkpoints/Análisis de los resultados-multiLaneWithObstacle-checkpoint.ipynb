{
 "cells": [
  {
   "cell_type": "markdown",
   "metadata": {},
   "source": [
    "# 1. Configuracion complex"
   ]
  },
  {
   "cell_type": "code",
   "execution_count": 1,
   "metadata": {
    "collapsed": false
   },
   "outputs": [
    {
     "data": {
      "text/plain": [
       "{u'active': True,\n",
       " u'carPerUpdate': 10,\n",
       " u'laneChangeProbability': 0.2,\n",
       " u'lanes': 4,\n",
       " u'lanesPos': [2, 2],\n",
       " u'lenght': 190,\n",
       " u'maxLength': 1000,\n",
       " u'maxSpeed': 5.0,\n",
       " u'slowDownProbability': 0.3,\n",
       " u'ticks': 0,\n",
       " u'xPos': [50, 100]}"
      ]
     },
     "execution_count": 1,
     "metadata": {},
     "output_type": "execute_result"
    }
   ],
   "source": [
    "import matplotlib.pyplot as plt\n",
    "import pandas as pd\n",
    "import numpy as np\n",
    "import json\n",
    "\n",
    "with open(\"input-multiLaneWithObstacle.json\") as json_file:\n",
    "    json_data = json.load(json_file)\n",
    "    #print(json_data)\n",
    "    \n",
    "json_data"
   ]
  },
  {
   "cell_type": "code",
   "execution_count": 2,
   "metadata": {
    "collapsed": false
   },
   "outputs": [
    {
     "data": {
      "text/html": [
       "<div>\n",
       "<table border=\"1\" class=\"dataframe\">\n",
       "  <thead>\n",
       "    <tr style=\"text-align: right;\">\n",
       "      <th></th>\n",
       "      <th>time</th>\n",
       "      <th>avgSpeedCars</th>\n",
       "      <th>queue</th>\n",
       "      <th>density</th>\n",
       "      <th>totalCars</th>\n",
       "      <th>flux</th>\n",
       "      <th>deadCars</th>\n",
       "    </tr>\n",
       "  </thead>\n",
       "  <tbody>\n",
       "    <tr>\n",
       "      <th>0</th>\n",
       "      <td>1</td>\n",
       "      <td>4.75</td>\n",
       "      <td>0</td>\n",
       "      <td>0.53</td>\n",
       "      <td>4</td>\n",
       "      <td>2.50</td>\n",
       "      <td>0</td>\n",
       "    </tr>\n",
       "    <tr>\n",
       "      <th>1</th>\n",
       "      <td>2</td>\n",
       "      <td>4.75</td>\n",
       "      <td>0</td>\n",
       "      <td>0.53</td>\n",
       "      <td>4</td>\n",
       "      <td>2.50</td>\n",
       "      <td>0</td>\n",
       "    </tr>\n",
       "    <tr>\n",
       "      <th>2</th>\n",
       "      <td>3</td>\n",
       "      <td>4.62</td>\n",
       "      <td>6</td>\n",
       "      <td>1.05</td>\n",
       "      <td>8</td>\n",
       "      <td>4.87</td>\n",
       "      <td>0</td>\n",
       "    </tr>\n",
       "    <tr>\n",
       "      <th>3</th>\n",
       "      <td>4</td>\n",
       "      <td>4.50</td>\n",
       "      <td>3</td>\n",
       "      <td>1.58</td>\n",
       "      <td>12</td>\n",
       "      <td>7.11</td>\n",
       "      <td>0</td>\n",
       "    </tr>\n",
       "    <tr>\n",
       "      <th>4</th>\n",
       "      <td>5</td>\n",
       "      <td>4.19</td>\n",
       "      <td>8</td>\n",
       "      <td>2.11</td>\n",
       "      <td>16</td>\n",
       "      <td>8.82</td>\n",
       "      <td>0</td>\n",
       "    </tr>\n",
       "    <tr>\n",
       "      <th>5</th>\n",
       "      <td>6</td>\n",
       "      <td>3.70</td>\n",
       "      <td>9</td>\n",
       "      <td>2.63</td>\n",
       "      <td>20</td>\n",
       "      <td>9.74</td>\n",
       "      <td>0</td>\n",
       "    </tr>\n",
       "    <tr>\n",
       "      <th>6</th>\n",
       "      <td>7</td>\n",
       "      <td>3.42</td>\n",
       "      <td>12</td>\n",
       "      <td>3.16</td>\n",
       "      <td>24</td>\n",
       "      <td>10.79</td>\n",
       "      <td>0</td>\n",
       "    </tr>\n",
       "    <tr>\n",
       "      <th>7</th>\n",
       "      <td>8</td>\n",
       "      <td>3.38</td>\n",
       "      <td>13</td>\n",
       "      <td>3.42</td>\n",
       "      <td>26</td>\n",
       "      <td>11.58</td>\n",
       "      <td>0</td>\n",
       "    </tr>\n",
       "    <tr>\n",
       "      <th>8</th>\n",
       "      <td>9</td>\n",
       "      <td>3.65</td>\n",
       "      <td>14</td>\n",
       "      <td>3.42</td>\n",
       "      <td>26</td>\n",
       "      <td>12.50</td>\n",
       "      <td>0</td>\n",
       "    </tr>\n",
       "    <tr>\n",
       "      <th>9</th>\n",
       "      <td>10</td>\n",
       "      <td>3.54</td>\n",
       "      <td>14</td>\n",
       "      <td>3.68</td>\n",
       "      <td>28</td>\n",
       "      <td>13.03</td>\n",
       "      <td>0</td>\n",
       "    </tr>\n",
       "    <tr>\n",
       "      <th>10</th>\n",
       "      <td>11</td>\n",
       "      <td>3.76</td>\n",
       "      <td>13</td>\n",
       "      <td>3.82</td>\n",
       "      <td>29</td>\n",
       "      <td>14.34</td>\n",
       "      <td>0</td>\n",
       "    </tr>\n",
       "    <tr>\n",
       "      <th>11</th>\n",
       "      <td>12</td>\n",
       "      <td>3.36</td>\n",
       "      <td>18</td>\n",
       "      <td>4.34</td>\n",
       "      <td>33</td>\n",
       "      <td>14.61</td>\n",
       "      <td>0</td>\n",
       "    </tr>\n",
       "    <tr>\n",
       "      <th>12</th>\n",
       "      <td>13</td>\n",
       "      <td>3.32</td>\n",
       "      <td>27</td>\n",
       "      <td>4.47</td>\n",
       "      <td>34</td>\n",
       "      <td>14.87</td>\n",
       "      <td>0</td>\n",
       "    </tr>\n",
       "    <tr>\n",
       "      <th>13</th>\n",
       "      <td>14</td>\n",
       "      <td>3.31</td>\n",
       "      <td>28</td>\n",
       "      <td>4.74</td>\n",
       "      <td>36</td>\n",
       "      <td>15.66</td>\n",
       "      <td>0</td>\n",
       "    </tr>\n",
       "    <tr>\n",
       "      <th>14</th>\n",
       "      <td>15</td>\n",
       "      <td>3.39</td>\n",
       "      <td>33</td>\n",
       "      <td>5.00</td>\n",
       "      <td>38</td>\n",
       "      <td>16.97</td>\n",
       "      <td>0</td>\n",
       "    </tr>\n",
       "    <tr>\n",
       "      <th>15</th>\n",
       "      <td>16</td>\n",
       "      <td>3.20</td>\n",
       "      <td>34</td>\n",
       "      <td>5.26</td>\n",
       "      <td>40</td>\n",
       "      <td>16.84</td>\n",
       "      <td>0</td>\n",
       "    </tr>\n",
       "    <tr>\n",
       "      <th>16</th>\n",
       "      <td>17</td>\n",
       "      <td>3.27</td>\n",
       "      <td>34</td>\n",
       "      <td>5.39</td>\n",
       "      <td>41</td>\n",
       "      <td>17.63</td>\n",
       "      <td>0</td>\n",
       "    </tr>\n",
       "    <tr>\n",
       "      <th>17</th>\n",
       "      <td>18</td>\n",
       "      <td>3.28</td>\n",
       "      <td>32</td>\n",
       "      <td>5.66</td>\n",
       "      <td>43</td>\n",
       "      <td>18.55</td>\n",
       "      <td>0</td>\n",
       "    </tr>\n",
       "    <tr>\n",
       "      <th>18</th>\n",
       "      <td>19</td>\n",
       "      <td>3.48</td>\n",
       "      <td>32</td>\n",
       "      <td>5.79</td>\n",
       "      <td>44</td>\n",
       "      <td>20.13</td>\n",
       "      <td>0</td>\n",
       "    </tr>\n",
       "    <tr>\n",
       "      <th>19</th>\n",
       "      <td>20</td>\n",
       "      <td>3.51</td>\n",
       "      <td>35</td>\n",
       "      <td>5.92</td>\n",
       "      <td>45</td>\n",
       "      <td>20.79</td>\n",
       "      <td>0</td>\n",
       "    </tr>\n",
       "  </tbody>\n",
       "</table>\n",
       "</div>"
      ],
      "text/plain": [
       "    time  avgSpeedCars  queue  density  totalCars   flux  deadCars\n",
       "0      1          4.75      0     0.53          4   2.50         0\n",
       "1      2          4.75      0     0.53          4   2.50         0\n",
       "2      3          4.62      6     1.05          8   4.87         0\n",
       "3      4          4.50      3     1.58         12   7.11         0\n",
       "4      5          4.19      8     2.11         16   8.82         0\n",
       "5      6          3.70      9     2.63         20   9.74         0\n",
       "6      7          3.42     12     3.16         24  10.79         0\n",
       "7      8          3.38     13     3.42         26  11.58         0\n",
       "8      9          3.65     14     3.42         26  12.50         0\n",
       "9     10          3.54     14     3.68         28  13.03         0\n",
       "10    11          3.76     13     3.82         29  14.34         0\n",
       "11    12          3.36     18     4.34         33  14.61         0\n",
       "12    13          3.32     27     4.47         34  14.87         0\n",
       "13    14          3.31     28     4.74         36  15.66         0\n",
       "14    15          3.39     33     5.00         38  16.97         0\n",
       "15    16          3.20     34     5.26         40  16.84         0\n",
       "16    17          3.27     34     5.39         41  17.63         0\n",
       "17    18          3.28     32     5.66         43  18.55         0\n",
       "18    19          3.48     32     5.79         44  20.13         0\n",
       "19    20          3.51     35     5.92         45  20.79         0"
      ]
     },
     "execution_count": 2,
     "metadata": {},
     "output_type": "execute_result"
    }
   ],
   "source": [
    "data = pd.read_csv('output-multiLaneWithObstacle.csv', sep=\",\")\n",
    "data.head(20)"
   ]
  },
  {
   "cell_type": "markdown",
   "metadata": {},
   "source": [
    "### Estadisticas simples de la data"
   ]
  },
  {
   "cell_type": "code",
   "execution_count": 3,
   "metadata": {
    "collapsed": false
   },
   "outputs": [
    {
     "name": "stdout",
     "output_type": "stream",
     "text": [
      "          time  avgSpeedCars     queue  density  totalCars     flux  deadCars\n",
      "count  591.000       591.000   591.000  591.000    591.000  591.000   591.000\n",
      "mean   296.000         2.520  1010.482   14.814    112.582   35.631   379.303\n",
      "std    170.751         0.555   615.248    3.302     25.098    4.903   247.413\n",
      "min      1.000         1.850     0.000    0.530      4.000    2.500     0.000\n",
      "25%    148.500         2.140   470.000   13.160    100.000   35.260   164.500\n",
      "50%    296.000         2.240   995.000   16.450    125.000   36.580   374.000\n",
      "75%    443.500         2.835  1526.000   17.110    130.000   37.630   593.000\n",
      "max    591.000         4.750  2119.000   18.290    139.000   41.450   814.000\n"
     ]
    }
   ],
   "source": [
    "pd.set_option('display.width', 100)\n",
    "pd.set_option('precision', 3)\n",
    "description = data.describe()\n",
    "print(description)"
   ]
  },
  {
   "cell_type": "markdown",
   "metadata": {},
   "source": [
    "### Graficas\n"
   ]
  },
  {
   "cell_type": "code",
   "execution_count": 4,
   "metadata": {
    "collapsed": true
   },
   "outputs": [],
   "source": [
    "data.hist()\n",
    "plt.show()"
   ]
  },
  {
   "cell_type": "code",
   "execution_count": 5,
   "metadata": {
    "collapsed": false
   },
   "outputs": [
    {
     "data": {
      "text/html": [
       "<div>\n",
       "<table border=\"1\" class=\"dataframe\">\n",
       "  <thead>\n",
       "    <tr style=\"text-align: right;\">\n",
       "      <th></th>\n",
       "      <th>time</th>\n",
       "      <th>avgSpeedCars</th>\n",
       "      <th>density</th>\n",
       "      <th>totalCars</th>\n",
       "      <th>flux</th>\n",
       "      <th>deadCars</th>\n",
       "    </tr>\n",
       "  </thead>\n",
       "  <tbody>\n",
       "    <tr>\n",
       "      <th>581</th>\n",
       "      <td>582</td>\n",
       "      <td>2.39</td>\n",
       "      <td>16.05</td>\n",
       "      <td>122</td>\n",
       "      <td>38.42</td>\n",
       "      <td>800</td>\n",
       "    </tr>\n",
       "    <tr>\n",
       "      <th>582</th>\n",
       "      <td>583</td>\n",
       "      <td>2.34</td>\n",
       "      <td>16.05</td>\n",
       "      <td>122</td>\n",
       "      <td>37.50</td>\n",
       "      <td>803</td>\n",
       "    </tr>\n",
       "    <tr>\n",
       "      <th>583</th>\n",
       "      <td>584</td>\n",
       "      <td>2.42</td>\n",
       "      <td>16.05</td>\n",
       "      <td>122</td>\n",
       "      <td>38.82</td>\n",
       "      <td>803</td>\n",
       "    </tr>\n",
       "    <tr>\n",
       "      <th>584</th>\n",
       "      <td>585</td>\n",
       "      <td>2.46</td>\n",
       "      <td>16.18</td>\n",
       "      <td>123</td>\n",
       "      <td>39.74</td>\n",
       "      <td>805</td>\n",
       "    </tr>\n",
       "    <tr>\n",
       "      <th>585</th>\n",
       "      <td>586</td>\n",
       "      <td>2.40</td>\n",
       "      <td>16.18</td>\n",
       "      <td>123</td>\n",
       "      <td>38.82</td>\n",
       "      <td>806</td>\n",
       "    </tr>\n",
       "    <tr>\n",
       "      <th>586</th>\n",
       "      <td>587</td>\n",
       "      <td>2.39</td>\n",
       "      <td>16.05</td>\n",
       "      <td>122</td>\n",
       "      <td>38.29</td>\n",
       "      <td>808</td>\n",
       "    </tr>\n",
       "    <tr>\n",
       "      <th>587</th>\n",
       "      <td>588</td>\n",
       "      <td>2.32</td>\n",
       "      <td>16.05</td>\n",
       "      <td>122</td>\n",
       "      <td>37.24</td>\n",
       "      <td>810</td>\n",
       "    </tr>\n",
       "    <tr>\n",
       "      <th>588</th>\n",
       "      <td>589</td>\n",
       "      <td>2.29</td>\n",
       "      <td>16.18</td>\n",
       "      <td>123</td>\n",
       "      <td>37.11</td>\n",
       "      <td>811</td>\n",
       "    </tr>\n",
       "    <tr>\n",
       "      <th>589</th>\n",
       "      <td>590</td>\n",
       "      <td>2.20</td>\n",
       "      <td>16.05</td>\n",
       "      <td>122</td>\n",
       "      <td>35.39</td>\n",
       "      <td>814</td>\n",
       "    </tr>\n",
       "    <tr>\n",
       "      <th>590</th>\n",
       "      <td>591</td>\n",
       "      <td>2.20</td>\n",
       "      <td>16.18</td>\n",
       "      <td>123</td>\n",
       "      <td>35.66</td>\n",
       "      <td>814</td>\n",
       "    </tr>\n",
       "  </tbody>\n",
       "</table>\n",
       "</div>"
      ],
      "text/plain": [
       "     time  avgSpeedCars  density  totalCars   flux  deadCars\n",
       "581   582          2.39    16.05        122  38.42       800\n",
       "582   583          2.34    16.05        122  37.50       803\n",
       "583   584          2.42    16.05        122  38.82       803\n",
       "584   585          2.46    16.18        123  39.74       805\n",
       "585   586          2.40    16.18        123  38.82       806\n",
       "586   587          2.39    16.05        122  38.29       808\n",
       "587   588          2.32    16.05        122  37.24       810\n",
       "588   589          2.29    16.18        123  37.11       811\n",
       "589   590          2.20    16.05        122  35.39       814\n",
       "590   591          2.20    16.18        123  35.66       814"
      ]
     },
     "execution_count": 5,
     "metadata": {},
     "output_type": "execute_result"
    }
   ],
   "source": [
    "#Se quita la columna tiempo\n",
    "#data.drop('time', axis=1, inplace=True)\n",
    "data.drop('queue', axis=1, inplace=True)\n",
    "data.tail(10)"
   ]
  },
  {
   "cell_type": "code",
   "execution_count": 6,
   "metadata": {
    "collapsed": false
   },
   "outputs": [],
   "source": [
    "#data.drop('time', axis=1, inplace=True)\n",
    "#print(data.head(10))\n",
    "data.plot(kind='density', subplots=True, layout=(3,3), sharex=False)\n",
    "plt.show()"
   ]
  },
  {
   "cell_type": "markdown",
   "metadata": {},
   "source": [
    "### BoxPlots"
   ]
  },
  {
   "cell_type": "code",
   "execution_count": 7,
   "metadata": {
    "collapsed": true
   },
   "outputs": [],
   "source": [
    "data.plot(kind='box', subplots=True, layout=(3,3), sharex=False, sharey=False)\n",
    "plt.show()"
   ]
  },
  {
   "cell_type": "markdown",
   "metadata": {},
   "source": [
    "### Correlaciones"
   ]
  },
  {
   "cell_type": "code",
   "execution_count": 8,
   "metadata": {
    "collapsed": false
   },
   "outputs": [
    {
     "name": "stdout",
     "output_type": "stream",
     "text": [
      "['time', 'avgSpeedCars', 'density', 'totalCars', 'flux', 'deadCars']\n"
     ]
    },
    {
     "name": "stderr",
     "output_type": "stream",
     "text": [
      "/usr/lib/pymodules/python2.7/matplotlib/collections.py:548: FutureWarning: elementwise comparison failed; returning scalar instead, but in the future will perform elementwise comparison\n",
      "  if self._edgecolors == 'face':\n"
     ]
    }
   ],
   "source": [
    "names = list(data.columns.values)\n",
    "print names\n",
    "correlations = data.corr()\n",
    "fig = plt.figure()\n",
    "ax = fig.add_subplot(111)\n",
    "cax = ax.matshow(correlations, vmin=-1, vmax=1)\n",
    "fig.colorbar(cax)\n",
    "ticks = np.arange(0,6,1)\n",
    "ax.set_xticks(ticks)\n",
    "ax.set_yticks(ticks)\n",
    "ax.set_xticklabels(names)\n",
    "ax.set_yticklabels(names)\n",
    "plt.show()"
   ]
  },
  {
   "cell_type": "markdown",
   "metadata": {},
   "source": [
    "### Scatter Plot Matrix"
   ]
  },
  {
   "cell_type": "code",
   "execution_count": 9,
   "metadata": {
    "collapsed": true
   },
   "outputs": [],
   "source": [
    "from pandas.tools.plotting import scatter_matrix\n",
    "\n",
    "#plt.figure(figsize=(15, 15))\n",
    "scatter_matrix(data)\n",
    "#plt.savefig('hola.png')\n",
    "plt.show()"
   ]
  },
  {
   "cell_type": "code",
   "execution_count": null,
   "metadata": {
    "collapsed": true
   },
   "outputs": [],
   "source": []
  },
  {
   "cell_type": "code",
   "execution_count": null,
   "metadata": {
    "collapsed": true
   },
   "outputs": [],
   "source": []
  },
  {
   "cell_type": "code",
   "execution_count": null,
   "metadata": {
    "collapsed": true
   },
   "outputs": [],
   "source": []
  },
  {
   "cell_type": "code",
   "execution_count": null,
   "metadata": {
    "collapsed": true
   },
   "outputs": [],
   "source": []
  },
  {
   "cell_type": "code",
   "execution_count": null,
   "metadata": {
    "collapsed": true
   },
   "outputs": [],
   "source": []
  }
 ],
 "metadata": {
  "kernelspec": {
   "display_name": "Python 2",
   "language": "python",
   "name": "python2"
  },
  "language_info": {
   "codemirror_mode": {
    "name": "ipython",
    "version": 2
   },
   "file_extension": ".py",
   "mimetype": "text/x-python",
   "name": "python",
   "nbconvert_exporter": "python",
   "pygments_lexer": "ipython2",
   "version": "2.7.6"
  }
 },
 "nbformat": 4,
 "nbformat_minor": 0
}
