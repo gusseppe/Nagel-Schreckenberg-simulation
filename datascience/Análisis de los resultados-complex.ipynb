{
 "cells": [
  {
   "cell_type": "markdown",
   "metadata": {},
   "source": [
    "# 1. Configuracion complex"
   ]
  },
  {
   "cell_type": "code",
   "execution_count": 1,
   "metadata": {
    "collapsed": false
   },
   "outputs": [
    {
     "data": {
      "text/plain": [
       "{u'active': True,\n",
       " u'carPerUpdate': 2,\n",
       " u'laneChangeProbability': 0.5,\n",
       " u'lanes': 3,\n",
       " u'lanesPos': [1, 1],\n",
       " u'lenght': 168,\n",
       " u'maxSpeed': 5.0,\n",
       " u'slowDownProbability': 0.3,\n",
       " u'ticks': 0,\n",
       " u'xPos': [0, 50]}"
      ]
     },
     "execution_count": 1,
     "metadata": {},
     "output_type": "execute_result"
    }
   ],
   "source": [
    "import matplotlib.pyplot as plt\n",
    "import pandas as pd\n",
    "import numpy as np\n",
    "import json\n",
    "\n",
    "with open(\"input-complex.json\") as json_file:\n",
    "    json_data = json.load(json_file)\n",
    "    #print(json_data)\n",
    "    \n",
    "json_data"
   ]
  },
  {
   "cell_type": "code",
   "execution_count": 2,
   "metadata": {
    "collapsed": false
   },
   "outputs": [
    {
     "data": {
      "text/html": [
       "<div>\n",
       "<table border=\"1\" class=\"dataframe\">\n",
       "  <thead>\n",
       "    <tr style=\"text-align: right;\">\n",
       "      <th></th>\n",
       "      <th>avgSpeedCars</th>\n",
       "      <th>flux</th>\n",
       "      <th>time</th>\n",
       "      <th>density</th>\n",
       "      <th>totalCars</th>\n",
       "      <th>queue</th>\n",
       "      <th>deadCars</th>\n",
       "    </tr>\n",
       "  </thead>\n",
       "  <tbody>\n",
       "    <tr>\n",
       "      <th>0</th>\n",
       "      <td>5.00</td>\n",
       "      <td>1.98</td>\n",
       "      <td>1</td>\n",
       "      <td>0.40</td>\n",
       "      <td>2</td>\n",
       "      <td>0</td>\n",
       "      <td>0</td>\n",
       "    </tr>\n",
       "    <tr>\n",
       "      <th>1</th>\n",
       "      <td>4.50</td>\n",
       "      <td>1.79</td>\n",
       "      <td>2</td>\n",
       "      <td>0.40</td>\n",
       "      <td>2</td>\n",
       "      <td>0</td>\n",
       "      <td>0</td>\n",
       "    </tr>\n",
       "    <tr>\n",
       "      <th>2</th>\n",
       "      <td>4.75</td>\n",
       "      <td>3.77</td>\n",
       "      <td>3</td>\n",
       "      <td>0.79</td>\n",
       "      <td>4</td>\n",
       "      <td>0</td>\n",
       "      <td>0</td>\n",
       "    </tr>\n",
       "    <tr>\n",
       "      <th>3</th>\n",
       "      <td>4.50</td>\n",
       "      <td>3.57</td>\n",
       "      <td>4</td>\n",
       "      <td>0.79</td>\n",
       "      <td>4</td>\n",
       "      <td>0</td>\n",
       "      <td>0</td>\n",
       "    </tr>\n",
       "    <tr>\n",
       "      <th>4</th>\n",
       "      <td>4.50</td>\n",
       "      <td>3.57</td>\n",
       "      <td>5</td>\n",
       "      <td>0.79</td>\n",
       "      <td>4</td>\n",
       "      <td>0</td>\n",
       "      <td>0</td>\n",
       "    </tr>\n",
       "    <tr>\n",
       "      <th>5</th>\n",
       "      <td>5.00</td>\n",
       "      <td>3.97</td>\n",
       "      <td>6</td>\n",
       "      <td>0.79</td>\n",
       "      <td>4</td>\n",
       "      <td>0</td>\n",
       "      <td>0</td>\n",
       "    </tr>\n",
       "    <tr>\n",
       "      <th>6</th>\n",
       "      <td>4.83</td>\n",
       "      <td>5.75</td>\n",
       "      <td>7</td>\n",
       "      <td>1.19</td>\n",
       "      <td>6</td>\n",
       "      <td>0</td>\n",
       "      <td>0</td>\n",
       "    </tr>\n",
       "    <tr>\n",
       "      <th>7</th>\n",
       "      <td>4.50</td>\n",
       "      <td>5.36</td>\n",
       "      <td>8</td>\n",
       "      <td>1.19</td>\n",
       "      <td>6</td>\n",
       "      <td>0</td>\n",
       "      <td>0</td>\n",
       "    </tr>\n",
       "    <tr>\n",
       "      <th>8</th>\n",
       "      <td>5.00</td>\n",
       "      <td>6.94</td>\n",
       "      <td>9</td>\n",
       "      <td>1.39</td>\n",
       "      <td>7</td>\n",
       "      <td>0</td>\n",
       "      <td>0</td>\n",
       "    </tr>\n",
       "    <tr>\n",
       "      <th>9</th>\n",
       "      <td>4.44</td>\n",
       "      <td>7.94</td>\n",
       "      <td>10</td>\n",
       "      <td>1.79</td>\n",
       "      <td>9</td>\n",
       "      <td>0</td>\n",
       "      <td>0</td>\n",
       "    </tr>\n",
       "    <tr>\n",
       "      <th>10</th>\n",
       "      <td>4.67</td>\n",
       "      <td>8.33</td>\n",
       "      <td>11</td>\n",
       "      <td>1.79</td>\n",
       "      <td>9</td>\n",
       "      <td>0</td>\n",
       "      <td>0</td>\n",
       "    </tr>\n",
       "    <tr>\n",
       "      <th>11</th>\n",
       "      <td>4.40</td>\n",
       "      <td>8.73</td>\n",
       "      <td>12</td>\n",
       "      <td>1.98</td>\n",
       "      <td>10</td>\n",
       "      <td>0</td>\n",
       "      <td>0</td>\n",
       "    </tr>\n",
       "    <tr>\n",
       "      <th>12</th>\n",
       "      <td>4.75</td>\n",
       "      <td>11.31</td>\n",
       "      <td>13</td>\n",
       "      <td>2.38</td>\n",
       "      <td>12</td>\n",
       "      <td>0</td>\n",
       "      <td>0</td>\n",
       "    </tr>\n",
       "    <tr>\n",
       "      <th>13</th>\n",
       "      <td>4.58</td>\n",
       "      <td>10.91</td>\n",
       "      <td>14</td>\n",
       "      <td>2.38</td>\n",
       "      <td>12</td>\n",
       "      <td>0</td>\n",
       "      <td>0</td>\n",
       "    </tr>\n",
       "    <tr>\n",
       "      <th>14</th>\n",
       "      <td>4.50</td>\n",
       "      <td>10.71</td>\n",
       "      <td>15</td>\n",
       "      <td>2.38</td>\n",
       "      <td>12</td>\n",
       "      <td>0</td>\n",
       "      <td>0</td>\n",
       "    </tr>\n",
       "    <tr>\n",
       "      <th>15</th>\n",
       "      <td>4.43</td>\n",
       "      <td>12.30</td>\n",
       "      <td>16</td>\n",
       "      <td>2.78</td>\n",
       "      <td>14</td>\n",
       "      <td>0</td>\n",
       "      <td>0</td>\n",
       "    </tr>\n",
       "    <tr>\n",
       "      <th>16</th>\n",
       "      <td>4.44</td>\n",
       "      <td>14.09</td>\n",
       "      <td>17</td>\n",
       "      <td>3.17</td>\n",
       "      <td>16</td>\n",
       "      <td>0</td>\n",
       "      <td>0</td>\n",
       "    </tr>\n",
       "    <tr>\n",
       "      <th>17</th>\n",
       "      <td>4.50</td>\n",
       "      <td>14.29</td>\n",
       "      <td>18</td>\n",
       "      <td>3.17</td>\n",
       "      <td>16</td>\n",
       "      <td>0</td>\n",
       "      <td>0</td>\n",
       "    </tr>\n",
       "    <tr>\n",
       "      <th>18</th>\n",
       "      <td>4.29</td>\n",
       "      <td>14.48</td>\n",
       "      <td>19</td>\n",
       "      <td>3.37</td>\n",
       "      <td>17</td>\n",
       "      <td>0</td>\n",
       "      <td>0</td>\n",
       "    </tr>\n",
       "    <tr>\n",
       "      <th>19</th>\n",
       "      <td>4.53</td>\n",
       "      <td>15.28</td>\n",
       "      <td>20</td>\n",
       "      <td>3.37</td>\n",
       "      <td>17</td>\n",
       "      <td>0</td>\n",
       "      <td>0</td>\n",
       "    </tr>\n",
       "  </tbody>\n",
       "</table>\n",
       "</div>"
      ],
      "text/plain": [
       "    avgSpeedCars   flux  time  density  totalCars  queue  deadCars\n",
       "0           5.00   1.98     1     0.40          2      0         0\n",
       "1           4.50   1.79     2     0.40          2      0         0\n",
       "2           4.75   3.77     3     0.79          4      0         0\n",
       "3           4.50   3.57     4     0.79          4      0         0\n",
       "4           4.50   3.57     5     0.79          4      0         0\n",
       "5           5.00   3.97     6     0.79          4      0         0\n",
       "6           4.83   5.75     7     1.19          6      0         0\n",
       "7           4.50   5.36     8     1.19          6      0         0\n",
       "8           5.00   6.94     9     1.39          7      0         0\n",
       "9           4.44   7.94    10     1.79          9      0         0\n",
       "10          4.67   8.33    11     1.79          9      0         0\n",
       "11          4.40   8.73    12     1.98         10      0         0\n",
       "12          4.75  11.31    13     2.38         12      0         0\n",
       "13          4.58  10.91    14     2.38         12      0         0\n",
       "14          4.50  10.71    15     2.38         12      0         0\n",
       "15          4.43  12.30    16     2.78         14      0         0\n",
       "16          4.44  14.09    17     3.17         16      0         0\n",
       "17          4.50  14.29    18     3.17         16      0         0\n",
       "18          4.29  14.48    19     3.37         17      0         0\n",
       "19          4.53  15.28    20     3.37         17      0         0"
      ]
     },
     "execution_count": 2,
     "metadata": {},
     "output_type": "execute_result"
    }
   ],
   "source": [
    "data = pd.read_csv('output-complex.csv', sep=\",\")\n",
    "data.head(20)"
   ]
  },
  {
   "cell_type": "markdown",
   "metadata": {},
   "source": [
    "### Estadisticas simples de la data"
   ]
  },
  {
   "cell_type": "code",
   "execution_count": 3,
   "metadata": {
    "collapsed": false
   },
   "outputs": [
    {
     "name": "stdout",
     "output_type": "stream",
     "text": [
      "       avgSpeedCars     flux     time  density  totalCars    queue  deadCars\n",
      "count       376.000  376.000  376.000  376.000    376.000  376.000   376.000\n",
      "mean          2.510   20.981  188.500    9.075     45.739   33.673   101.447\n",
      "std           0.903    5.245  108.686    2.457     12.381   30.165    68.260\n",
      "min           1.450    1.790    1.000    0.400      2.000    0.000     0.000\n",
      "25%           1.980   17.060   94.750    8.930     45.000    3.000    39.000\n",
      "50%           2.230   21.630  188.500    9.920     50.000   31.000   104.000\n",
      "75%           2.650   24.800  282.250   10.710     54.000   64.000   164.250\n",
      "max           5.000   31.940  376.000   11.900     60.000   93.000   227.000\n"
     ]
    }
   ],
   "source": [
    "pd.set_option('display.width', 100)\n",
    "pd.set_option('precision', 3)\n",
    "description = data.describe()\n",
    "print(description)"
   ]
  },
  {
   "cell_type": "markdown",
   "metadata": {},
   "source": [
    "### Graficas\n"
   ]
  },
  {
   "cell_type": "code",
   "execution_count": 4,
   "metadata": {
    "collapsed": true
   },
   "outputs": [],
   "source": [
    "data.hist()\n",
    "plt.show()"
   ]
  },
  {
   "cell_type": "code",
   "execution_count": 5,
   "metadata": {
    "collapsed": false
   },
   "outputs": [
    {
     "data": {
      "text/html": [
       "<div>\n",
       "<table border=\"1\" class=\"dataframe\">\n",
       "  <thead>\n",
       "    <tr style=\"text-align: right;\">\n",
       "      <th></th>\n",
       "      <th>avgSpeedCars</th>\n",
       "      <th>flux</th>\n",
       "      <th>time</th>\n",
       "      <th>density</th>\n",
       "      <th>totalCars</th>\n",
       "      <th>deadCars</th>\n",
       "    </tr>\n",
       "  </thead>\n",
       "  <tbody>\n",
       "    <tr>\n",
       "      <th>366</th>\n",
       "      <td>2.28</td>\n",
       "      <td>21.23</td>\n",
       "      <td>367</td>\n",
       "      <td>9.33</td>\n",
       "      <td>47</td>\n",
       "      <td>220</td>\n",
       "    </tr>\n",
       "    <tr>\n",
       "      <th>367</th>\n",
       "      <td>2.30</td>\n",
       "      <td>21.43</td>\n",
       "      <td>368</td>\n",
       "      <td>9.33</td>\n",
       "      <td>47</td>\n",
       "      <td>220</td>\n",
       "    </tr>\n",
       "    <tr>\n",
       "      <th>368</th>\n",
       "      <td>2.30</td>\n",
       "      <td>21.43</td>\n",
       "      <td>369</td>\n",
       "      <td>9.33</td>\n",
       "      <td>47</td>\n",
       "      <td>221</td>\n",
       "    </tr>\n",
       "    <tr>\n",
       "      <th>369</th>\n",
       "      <td>2.09</td>\n",
       "      <td>18.65</td>\n",
       "      <td>370</td>\n",
       "      <td>8.93</td>\n",
       "      <td>45</td>\n",
       "      <td>224</td>\n",
       "    </tr>\n",
       "    <tr>\n",
       "      <th>370</th>\n",
       "      <td>2.11</td>\n",
       "      <td>19.25</td>\n",
       "      <td>371</td>\n",
       "      <td>9.13</td>\n",
       "      <td>46</td>\n",
       "      <td>224</td>\n",
       "    </tr>\n",
       "    <tr>\n",
       "      <th>371</th>\n",
       "      <td>2.16</td>\n",
       "      <td>19.25</td>\n",
       "      <td>372</td>\n",
       "      <td>8.93</td>\n",
       "      <td>45</td>\n",
       "      <td>225</td>\n",
       "    </tr>\n",
       "    <tr>\n",
       "      <th>372</th>\n",
       "      <td>2.20</td>\n",
       "      <td>19.25</td>\n",
       "      <td>373</td>\n",
       "      <td>8.73</td>\n",
       "      <td>44</td>\n",
       "      <td>226</td>\n",
       "    </tr>\n",
       "    <tr>\n",
       "      <th>373</th>\n",
       "      <td>2.24</td>\n",
       "      <td>20.04</td>\n",
       "      <td>374</td>\n",
       "      <td>8.93</td>\n",
       "      <td>45</td>\n",
       "      <td>226</td>\n",
       "    </tr>\n",
       "    <tr>\n",
       "      <th>374</th>\n",
       "      <td>2.04</td>\n",
       "      <td>18.25</td>\n",
       "      <td>375</td>\n",
       "      <td>8.93</td>\n",
       "      <td>45</td>\n",
       "      <td>227</td>\n",
       "    </tr>\n",
       "    <tr>\n",
       "      <th>375</th>\n",
       "      <td>2.07</td>\n",
       "      <td>18.45</td>\n",
       "      <td>376</td>\n",
       "      <td>8.93</td>\n",
       "      <td>45</td>\n",
       "      <td>227</td>\n",
       "    </tr>\n",
       "  </tbody>\n",
       "</table>\n",
       "</div>"
      ],
      "text/plain": [
       "     avgSpeedCars   flux  time  density  totalCars  deadCars\n",
       "366          2.28  21.23   367     9.33         47       220\n",
       "367          2.30  21.43   368     9.33         47       220\n",
       "368          2.30  21.43   369     9.33         47       221\n",
       "369          2.09  18.65   370     8.93         45       224\n",
       "370          2.11  19.25   371     9.13         46       224\n",
       "371          2.16  19.25   372     8.93         45       225\n",
       "372          2.20  19.25   373     8.73         44       226\n",
       "373          2.24  20.04   374     8.93         45       226\n",
       "374          2.04  18.25   375     8.93         45       227\n",
       "375          2.07  18.45   376     8.93         45       227"
      ]
     },
     "execution_count": 5,
     "metadata": {},
     "output_type": "execute_result"
    }
   ],
   "source": [
    "#Se quita la columna tiempo\n",
    "#data.drop('time', axis=1, inplace=True)\n",
    "data.drop('queue', axis=1, inplace=True)\n",
    "data.tail(10)"
   ]
  },
  {
   "cell_type": "code",
   "execution_count": 6,
   "metadata": {
    "collapsed": false
   },
   "outputs": [],
   "source": [
    "#data.drop('time', axis=1, inplace=True)\n",
    "#print(data.head(10))\n",
    "data.plot(kind='density', subplots=True, layout=(3,3), sharex=False)\n",
    "plt.show()"
   ]
  },
  {
   "cell_type": "markdown",
   "metadata": {},
   "source": [
    "### BoxPlots"
   ]
  },
  {
   "cell_type": "code",
   "execution_count": 7,
   "metadata": {
    "collapsed": true
   },
   "outputs": [],
   "source": [
    "data.plot(kind='box', subplots=True, layout=(3,3), sharex=False, sharey=False)\n",
    "plt.show()"
   ]
  },
  {
   "cell_type": "markdown",
   "metadata": {},
   "source": [
    "### Correlaciones"
   ]
  },
  {
   "cell_type": "code",
   "execution_count": 8,
   "metadata": {
    "collapsed": false
   },
   "outputs": [
    {
     "name": "stdout",
     "output_type": "stream",
     "text": [
      "['avgSpeedCars', 'flux', 'time', 'density', 'totalCars', 'deadCars']\n"
     ]
    },
    {
     "name": "stderr",
     "output_type": "stream",
     "text": [
      "/usr/lib/pymodules/python2.7/matplotlib/collections.py:548: FutureWarning: elementwise comparison failed; returning scalar instead, but in the future will perform elementwise comparison\n",
      "  if self._edgecolors == 'face':\n"
     ]
    }
   ],
   "source": [
    "names = list(data.columns.values)\n",
    "print names\n",
    "correlations = data.corr()\n",
    "fig = plt.figure()\n",
    "ax = fig.add_subplot(111)\n",
    "cax = ax.matshow(correlations, vmin=-1, vmax=1)\n",
    "fig.colorbar(cax)\n",
    "ticks = np.arange(0,6,1)\n",
    "ax.set_xticks(ticks)\n",
    "ax.set_yticks(ticks)\n",
    "ax.set_xticklabels(names)\n",
    "ax.set_yticklabels(names)\n",
    "plt.show()"
   ]
  },
  {
   "cell_type": "markdown",
   "metadata": {},
   "source": [
    "### Scatter Plot Matrix"
   ]
  },
  {
   "cell_type": "code",
   "execution_count": 9,
   "metadata": {
    "collapsed": true
   },
   "outputs": [],
   "source": [
    "from pandas.tools.plotting import scatter_matrix\n",
    "\n",
    "#plt.figure(figsize=(15, 15))\n",
    "scatter_matrix(data)\n",
    "#plt.savefig('hola.png')\n",
    "plt.show()"
   ]
  },
  {
   "cell_type": "code",
   "execution_count": null,
   "metadata": {
    "collapsed": true
   },
   "outputs": [],
   "source": []
  },
  {
   "cell_type": "code",
   "execution_count": null,
   "metadata": {
    "collapsed": true
   },
   "outputs": [],
   "source": []
  },
  {
   "cell_type": "code",
   "execution_count": null,
   "metadata": {
    "collapsed": true
   },
   "outputs": [],
   "source": []
  },
  {
   "cell_type": "code",
   "execution_count": null,
   "metadata": {
    "collapsed": true
   },
   "outputs": [],
   "source": []
  },
  {
   "cell_type": "code",
   "execution_count": null,
   "metadata": {
    "collapsed": true
   },
   "outputs": [],
   "source": []
  }
 ],
 "metadata": {
  "kernelspec": {
   "display_name": "Python 2",
   "language": "python",
   "name": "python2"
  },
  "language_info": {
   "codemirror_mode": {
    "name": "ipython",
    "version": 2
   },
   "file_extension": ".py",
   "mimetype": "text/x-python",
   "name": "python",
   "nbconvert_exporter": "python",
   "pygments_lexer": "ipython2",
   "version": "2.7.6"
  }
 },
 "nbformat": 4,
 "nbformat_minor": 0
}
